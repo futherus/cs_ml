{
 "cells": [
  {
   "cell_type": "markdown",
   "metadata": {},
   "source": [
    "### Libraries"
   ]
  },
  {
   "cell_type": "code",
   "execution_count": 1,
   "metadata": {},
   "outputs": [],
   "source": [
    "from sklearn.metrics import classification_report, accuracy_score\n",
    "from sklearn.model_selection import ParameterGrid\n",
    "import matplotlib.pyplot as plt\n",
    "from matplotlib import gridspec\n",
    "from tqdm.notebook import tqdm\n",
    "import numpy as np\n",
    "\n",
    "from torch.utils.tensorboard import SummaryWriter\n",
    "from torchvision.datasets import FashionMNIST\n",
    "from torchvision import datasets, transforms\n",
    "import torchvision\n",
    "import torch\n",
    "\n",
    "import warnings\n",
    "warnings.filterwarnings(\"ignore\")"
   ]
  },
  {
   "cell_type": "code",
   "execution_count": 2,
   "metadata": {},
   "outputs": [
    {
     "data": {
      "text/plain": [
       "device(type='cuda')"
      ]
     },
     "execution_count": 2,
     "metadata": {},
     "output_type": "execute_result"
    }
   ],
   "source": [
    "device = torch.device('cuda' if torch.cuda.is_available() else 'cpu')\n",
    "device"
   ]
  },
  {
   "cell_type": "markdown",
   "metadata": {},
   "source": [
    "### Dataset & general parameters"
   ]
  },
  {
   "cell_type": "code",
   "execution_count": 3,
   "metadata": {},
   "outputs": [],
   "source": [
    "# Uncomment string below to download dataset\n",
    "# !wget https://storage.yandexcloud.net/natasha-nerus/data/nerus_lenta.conllu.gz"
   ]
  },
  {
   "cell_type": "code",
   "execution_count": 4,
   "metadata": {},
   "outputs": [
    {
     "data": {
      "application/vnd.jupyter.widget-view+json": {
       "model_id": "1e1fd3e02658458fb7ebd855428a3ce3",
       "version_major": 2,
       "version_minor": 0
      },
      "text/plain": [
       "0it [00:00, ?it/s]"
      ]
     },
     "metadata": {},
     "output_type": "display_data"
    }
   ],
   "source": [
    "from nerus import load_nerus\n",
    "docs = load_nerus('nerus_lenta.conllu.gz')\n",
    "special_tokens = ['<PAD>']\n",
    "special_tags = ['<PAD>']\n",
    "\n",
    "sentences = []\n",
    "tags = []\n",
    "\n",
    "cnt = 0\n",
    "n_docs_max = 5000\n",
    "for doc in tqdm(docs):\n",
    "    cnt += 1\n",
    "    \n",
    "    for sent in doc.sents:\n",
    "        sent_ = []\n",
    "        tag_ = []\n",
    "\n",
    "        for word in sent.tokens:\n",
    "            tag_.append(word.pos)\n",
    "            sent_.append(word.text)\n",
    "\n",
    "        sentences.append(sent_)\n",
    "        tags.append(tag_)\n",
    "\n",
    "    if cnt > n_docs_max:\n",
    "        break"
   ]
  },
  {
   "cell_type": "code",
   "execution_count": 5,
   "metadata": {},
   "outputs": [
    {
     "name": "stdout",
     "output_type": "stream",
     "text": [
      "['Вице-премьер', 'по', 'социальным', 'вопросам', 'Татьяна', 'Голикова', 'рассказала', ',', 'в', 'каких', 'регионах', 'России', 'зафиксирована', 'наиболее', 'высокая', 'смертность', 'от', 'рака', ',', 'сообщает', 'РИА', 'Новости', '.']\n",
      "['По', 'словам', 'Голиковой', ',', 'чаще', 'всего', 'онкологические', 'заболевания', 'становились', 'причиной', 'смерти', 'в', 'Псковской', ',', 'Тверской', ',', 'Тульской', 'и', 'Орловской', 'областях', ',', 'а', 'также', 'в', 'Севастополе', '.']\n"
     ]
    }
   ],
   "source": [
    "print(sentences[0])\n",
    "print(sentences[1])"
   ]
  },
  {
   "cell_type": "code",
   "execution_count": 6,
   "metadata": {},
   "outputs": [],
   "source": [
    "set_tokens = {word for sent in sentences for word in sent}\n",
    "set_tokens.difference_update(special_tokens)\n",
    "list_tokens = special_tokens + list(set_tokens)\n",
    "\n",
    "set_tags = {tag for t in tags for tag in t}\n",
    "set_tags.difference_update(special_tags)\n",
    "list_tags = special_tags + list(set_tags)\n",
    "\n",
    "token_to_idx = dict(zip(list_tokens, np.arange(len(list_tokens))))\n",
    "tag_to_idx = dict(zip(list_tags, np.arange(len(list_tags))))"
   ]
  },
  {
   "cell_type": "code",
   "execution_count": 7,
   "metadata": {},
   "outputs": [
    {
     "name": "stdout",
     "output_type": "stream",
     "text": [
      "53112 5902\n"
     ]
    }
   ],
   "source": [
    "train_test_boundary = int(len(sentences) * 0.9)\n",
    "\n",
    "train_sentences = sentences[:train_test_boundary]\n",
    "train_tags = tags[:train_test_boundary]\n",
    "test_sentences = sentences[train_test_boundary:]\n",
    "test_tags = tags[train_test_boundary:]\n",
    "\n",
    "print(len(train_sentences), len(test_sentences))"
   ]
  },
  {
   "cell_type": "code",
   "execution_count": 8,
   "metadata": {},
   "outputs": [],
   "source": [
    "class TaggingDataset(torch.utils.data.Dataset):\n",
    "    def __init__(self, sentences, tags, token_to_idx, tag_to_idx):\n",
    "        super().__init__()\n",
    "\n",
    "        self.sentences = sentences\n",
    "        self.tags = tags\n",
    "        self.token_to_idx = token_to_idx\n",
    "        self.tag_to_idx = tag_to_idx\n",
    "\n",
    "        sent_index = []\n",
    "        tags_index = []\n",
    "\n",
    "        for sent in sentences:\n",
    "            sequence = []\n",
    "\n",
    "            for token in sent:\n",
    "                if token in self.token_to_idx:\n",
    "                    sequence.append(token_to_idx[token])\n",
    "                else:\n",
    "                    sequence.append(0)\n",
    "\n",
    "            sent_index.append(sequence)\n",
    "\n",
    "        for sent_tags in tags:\n",
    "            tgs = []\n",
    "\n",
    "            for tag in sent_tags:\n",
    "                tgs.append(tag_to_idx[tag])\n",
    "\n",
    "            tags_index.append(tgs)\n",
    "\n",
    "        self.sent_index = sent_index\n",
    "        self.tags_index = tags_index\n",
    "\n",
    "    def __getitem__(self, idx):\n",
    "        return torch.tensor(self.sent_index[idx]), torch.tensor(self.tags_index[idx])\n",
    "\n",
    "    def __len__(self):\n",
    "        return len(self.sent_index)"
   ]
  },
  {
   "cell_type": "code",
   "execution_count": 9,
   "metadata": {},
   "outputs": [],
   "source": [
    "train_dataset = TaggingDataset(train_sentences, train_tags, token_to_idx, tag_to_idx)\n",
    "test_dataset = TaggingDataset(test_sentences, test_tags, token_to_idx, tag_to_idx)"
   ]
  },
  {
   "cell_type": "code",
   "execution_count": 10,
   "metadata": {},
   "outputs": [
    {
     "name": "stdout",
     "output_type": "stream",
     "text": [
      "(tensor([58888, 71854,  6652, 62548, 64147, 88873, 42599, 96671, 50119, 49013,\n",
      "        63223, 75583, 15058, 40003, 43491, 97324, 34959, 32389, 96671, 43713,\n",
      "        37086, 30485, 87631]), tensor([ 5, 14,  9,  5,  2,  2, 15, 11, 14, 12,  5,  2, 15,  3,  9,  5, 14,  5,\n",
      "        11, 15,  2,  2, 11]))\n",
      "torch.Size([23])\n",
      "Первое слово первого предложения:                   Вице-премьер\n",
      "Второе слово первого предложения:                   по\n",
      "Первое слово второго предложения:                   По\n",
      "Часть речи (PoS) первого слова первого предложения: NOUN\n"
     ]
    }
   ],
   "source": [
    "# [sentence][token/tag][word]\n",
    "print(train_dataset[0])\n",
    "print(train_dataset[0][0].size())\n",
    "print(f\"Первое слово первого предложения:                   {list_tokens[int(train_dataset[0][0][0])]}\")\n",
    "print(f\"Второе слово первого предложения:                   {list_tokens[int(train_dataset[0][0][1])]}\")\n",
    "print(f\"Первое слово второго предложения:                   {list_tokens[int(train_dataset[1][0][0])]}\")\n",
    "print(f\"Часть речи (PoS) первого слова первого предложения: {list_tags[int(train_dataset[0][1][0])]}\")"
   ]
  },
  {
   "cell_type": "code",
   "execution_count": 11,
   "metadata": {},
   "outputs": [],
   "source": [
    "class PaddingCollator:\n",
    "    \"\"\"\n",
    "    Реализует padding всех \"предложений\" в batch-e до размера самого большого предложения.\n",
    "    \"\"\"\n",
    "    def __init__(self, pad_token_id, pad_tag_id):\n",
    "        self.pad_token_idx = pad_token_id\n",
    "        self.pad_tag_id = pad_tag_id\n",
    "        \n",
    "    def __call__(self, batch):\n",
    "        # elem[0] -- тензор из токенов-слов\n",
    "        # elem[1] -- тензор из тэгов-POS\n",
    "        max_len = 0\n",
    "        for elem in batch:\n",
    "            if (len(elem[0]) > max_len):\n",
    "                max_len = len(elem[0])\n",
    "\n",
    "        new_sentences = []\n",
    "        new_tags = []\n",
    "\n",
    "        for elem in batch:\n",
    "            new_sentences.append(torch.nn.functional.pad(elem[0], (0, max_len - len(elem[0])), \"constant\", self.pad_token_idx))\n",
    "            new_tags.append(torch.nn.functional.pad(elem[1], (0, max_len - len(elem[1])), \"constant\", self.pad_tag_id))\n",
    "\n",
    "        return torch.stack(new_sentences), torch.stack(new_tags)"
   ]
  },
  {
   "cell_type": "code",
   "execution_count": 12,
   "metadata": {},
   "outputs": [],
   "source": [
    "train_dataloader = torch.utils.data.DataLoader(\n",
    "    train_dataset,\n",
    "    batch_size=64,\n",
    "    shuffle=False,\n",
    "    drop_last=False,\n",
    "    collate_fn=PaddingCollator(\n",
    "        pad_token_id=token_to_idx['<PAD>'],\n",
    "        pad_tag_id=tag_to_idx['<PAD>'],\n",
    "    )\n",
    ")\n",
    "\n",
    "test_dataloader = torch.utils.data.DataLoader(\n",
    "    test_dataset,\n",
    "    batch_size=64,\n",
    "    shuffle=False,\n",
    "    drop_last=False,\n",
    "    collate_fn=PaddingCollator(\n",
    "        pad_token_id=token_to_idx['<PAD>'],\n",
    "        pad_tag_id=tag_to_idx['<PAD>'],\n",
    "    )\n",
    ")"
   ]
  },
  {
   "cell_type": "markdown",
   "metadata": {},
   "source": [
    "### General training code"
   ]
  },
  {
   "cell_type": "markdown",
   "metadata": {},
   "source": [
    "Код для обучения, формат которого взят с семинаров."
   ]
  },
  {
   "cell_type": "code",
   "execution_count": 13,
   "metadata": {},
   "outputs": [],
   "source": [
    "def train_on_batch(model, x_batch, y_batch, optimizer, loss_function):\n",
    "    global print_once\n",
    "    \n",
    "    model.train()\n",
    "    model.zero_grad()\n",
    "\n",
    "    x_batch = x_batch.to(device)\n",
    "    y_batch = y_batch.to(device)\n",
    "\n",
    "    output = model(x_batch)\n",
    "    # (N, L, T) -> (N, T, L)\n",
    "    output = torch.transpose(output, 1, 2)\n",
    "    # Мы используем CrossEntropyLoass, которая ожидает input=(N, T, L) и target=(N, L)\n",
    "    # NOTE: В документации T соответствует C, L соответствует d1\n",
    "    loss = loss_function(output, y_batch)\n",
    "\n",
    "    loss.backward()\n",
    "    optimizer.step()\n",
    "\n",
    "    return loss.cpu().item()"
   ]
  },
  {
   "cell_type": "code",
   "execution_count": 14,
   "metadata": {},
   "outputs": [],
   "source": [
    "def train_epoch(train_generator, model, loss_function, optimizer, callback):\n",
    "    epoch_loss = 0\n",
    "    total = 0\n",
    "\n",
    "    for it, (batch_of_x, batch_of_y) in enumerate(train_generator):\n",
    "        batch_loss = train_on_batch(\n",
    "            model, batch_of_x.to(device), batch_of_y.to(device), optimizer, loss_function)\n",
    "\n",
    "        if callback is not None:\n",
    "            callback(model, batch_loss)\n",
    "\n",
    "        epoch_loss += batch_loss * len(batch_of_x)\n",
    "        total += len(batch_of_x)\n",
    "\n",
    "    return epoch_loss / total"
   ]
  },
  {
   "cell_type": "code",
   "execution_count": 15,
   "metadata": {},
   "outputs": [],
   "source": [
    "def trainer(count_of_epoch,\n",
    "            model,\n",
    "            dataset_loader,\n",
    "            loss_function,\n",
    "            optimizer,\n",
    "            lr=0.001,\n",
    "            callback=None):\n",
    "    optima = optimizer(model.parameters(), lr=lr, weight_decay=1e-5)\n",
    "\n",
    "    iterations = tqdm(range(count_of_epoch))\n",
    "\n",
    "    for it in iterations:\n",
    "        epoch_loss = train_epoch(\n",
    "            train_generator=dataset_loader, model=model,\n",
    "            loss_function=loss_function,\n",
    "            optimizer=optima,\n",
    "            callback=callback)\n",
    "\n",
    "        iterations.set_postfix({'train epoch loss': epoch_loss})"
   ]
  },
  {
   "cell_type": "code",
   "execution_count": 16,
   "metadata": {},
   "outputs": [],
   "source": [
    "def quality_of_train(dataset_loader,\n",
    "                     model,\n",
    "                     loss_function):\n",
    "    pred = []\n",
    "    real = []\n",
    "    test_loss = 0\n",
    "    total = 0\n",
    "\n",
    "    for it, (sentences, tags) in enumerate(dataset_loader):\n",
    "        sentences = sentences.to(device)\n",
    "        tags = tags.to(device)\n",
    "\n",
    "        output = model(sentences)\n",
    "\n",
    "        pred.extend(torch.argmax(output, dim=2).cpu().numpy().flatten().tolist())\n",
    "        real.extend(tags.cpu().numpy().flatten().tolist())\n",
    "\n",
    "        output = torch.transpose(output, 1, 2)\n",
    "        test_loss += loss_function(output, tags).cpu().item() * len(sentences)\n",
    "        total += len(sentences)\n",
    "\n",
    "    test_loss /= total\n",
    "\n",
    "    return test_loss, pred, real"
   ]
  },
  {
   "cell_type": "markdown",
   "metadata": {},
   "source": [
    "### Модель LSTM"
   ]
  },
  {
   "cell_type": "code",
   "execution_count": 17,
   "metadata": {},
   "outputs": [],
   "source": [
    "class LSTMTagger(torch.nn.Module):\n",
    "    @property\n",
    "    def device(self):\n",
    "        return next(self.parameters()).device\n",
    "\n",
    "    def __init__(self, embedding_dim, hidden_dim, vocab_size, tagset_size, dropout, num_layers):\n",
    "        super(LSTMTagger, self).__init__()\n",
    "\n",
    "        # Идентичен nn.Linear(vocab_size, embedding_dim) где\n",
    "        # каждое слово из словаря является one-hot вектором, len = vocab_size\n",
    "        self.word_embeddings = torch.nn.Embedding(vocab_size, embedding_dim)\n",
    "\n",
    "        # Учитывая batch_first=True, ожидает на вход тензор размерами (N, L, H_in), где\n",
    "        # N -- количество элементов в batch-e\n",
    "        # L -- длина последовательности (количество токенов в \"предложении\")\n",
    "        # H_in -- embedding_dim\n",
    "        #\n",
    "        # Учитывая batch_first=True, на выходе тензор (N,L,D*H_out), где\n",
    "        # L -- см. выше\n",
    "        # D -- directions (1 в случае bidirectional=False)\n",
    "        # H_out -- hidden_dim\n",
    "        self.lstm = torch.nn.LSTM(embedding_dim, hidden_dim, batch_first=True, dropout=dropout, num_layers=num_layers)\n",
    "\n",
    "        # После него на выходе (N,L,T), где\n",
    "        # T -- количество возможных тэгов\n",
    "        self.linear = torch.nn.Linear(hidden_dim, tagset_size)\n",
    "\n",
    "    def forward(self, x_batch):\n",
    "        embeddings = self.word_embeddings(x_batch)\n",
    "\n",
    "        d_n, (h_n, c_n) = self.lstm(embeddings)\n",
    "        return self.linear(d_n)"
   ]
  },
  {
   "cell_type": "markdown",
   "metadata": {},
   "source": [
    "### Tensorboard training tracking"
   ]
  },
  {
   "cell_type": "code",
   "execution_count": 18,
   "metadata": {},
   "outputs": [],
   "source": [
    "class callback():\n",
    "    def __init__(self, writer, dataset_loader, loss_function, delimeter=100):\n",
    "        self.step = 0\n",
    "        self.writer = writer\n",
    "        self.delimeter = delimeter\n",
    "        self.loss_function = loss_function\n",
    "\n",
    "        self.dataset_loader = dataset_loader\n",
    "\n",
    "    def forward(self, model, loss):\n",
    "        self.step += 1\n",
    "        self.writer.add_scalar('LOSS/train', loss, self.step)\n",
    "        model.eval()\n",
    "\n",
    "        if self.step % self.delimeter == 0:\n",
    "            test_loss, pred, real = quality_of_train(dataset_loader=self.dataset_loader,\n",
    "                                                     model=model, loss_function=self.loss_function)\n",
    "            self.writer.add_scalar('LOSS/test', test_loss, self.step)\n",
    "\n",
    "            indices = (real != tag_to_idx['<PAD>']).nonzero()\n",
    "\n",
    "            real = np.array(real)[indices]\n",
    "            pred = np.array(pred)[indices]\n",
    "\n",
    "            self.writer.add_scalar('Valid/acc', accuracy_score(real, pred), self.step)\n",
    "            self.writer.add_text('Valid/report', str(classification_report(real, pred)), self.step)\n",
    "\n",
    "    def __call__(self, model, loss):\n",
    "        return self.forward(model, loss)"
   ]
  },
  {
   "cell_type": "markdown",
   "metadata": {},
   "source": [
    "### LSTM training"
   ]
  },
  {
   "cell_type": "code",
   "execution_count": 19,
   "metadata": {},
   "outputs": [],
   "source": [
    "loss_function = torch.nn.CrossEntropyLoss(ignore_index=tag_to_idx['<PAD>'])\n",
    "optimizer = torch.optim.Adam"
   ]
  },
  {
   "cell_type": "code",
   "execution_count": 20,
   "metadata": {},
   "outputs": [
    {
     "data": {
      "application/vnd.jupyter.widget-view+json": {
       "model_id": "37b9dab21eb0406e8e36029fb2e7a626",
       "version_major": 2,
       "version_minor": 0
      },
      "text/plain": [
       "  0%|          | 0/54 [00:00<?, ?it/s]"
      ]
     },
     "metadata": {},
     "output_type": "display_data"
    },
    {
     "name": "stdout",
     "output_type": "stream",
     "text": [
      "{'dropout': 0.0, 'embedding_dim': 150, 'hidden_dim': 150, 'num_layers': 1}\n"
     ]
    },
    {
     "data": {
      "application/vnd.jupyter.widget-view+json": {
       "model_id": "fca57d8238004281b6945bb6a83cae22",
       "version_major": 2,
       "version_minor": 0
      },
      "text/plain": [
       "  0%|          | 0/3 [00:00<?, ?it/s]"
      ]
     },
     "metadata": {},
     "output_type": "display_data"
    },
    {
     "name": "stdout",
     "output_type": "stream",
     "text": [
      "{'dropout': 0.0, 'embedding_dim': 150, 'hidden_dim': 150, 'num_layers': 2}\n"
     ]
    },
    {
     "data": {
      "application/vnd.jupyter.widget-view+json": {
       "model_id": "f9b4cac54413433e894bbbb059a6abe3",
       "version_major": 2,
       "version_minor": 0
      },
      "text/plain": [
       "  0%|          | 0/3 [00:00<?, ?it/s]"
      ]
     },
     "metadata": {},
     "output_type": "display_data"
    },
    {
     "name": "stdout",
     "output_type": "stream",
     "text": [
      "{'dropout': 0.0, 'embedding_dim': 150, 'hidden_dim': 150, 'num_layers': 3}\n"
     ]
    },
    {
     "data": {
      "application/vnd.jupyter.widget-view+json": {
       "model_id": "319f7d1dad544435a779583520f33398",
       "version_major": 2,
       "version_minor": 0
      },
      "text/plain": [
       "  0%|          | 0/3 [00:00<?, ?it/s]"
      ]
     },
     "metadata": {},
     "output_type": "display_data"
    },
    {
     "name": "stdout",
     "output_type": "stream",
     "text": [
      "{'dropout': 0.0, 'embedding_dim': 150, 'hidden_dim': 300, 'num_layers': 1}\n"
     ]
    },
    {
     "data": {
      "application/vnd.jupyter.widget-view+json": {
       "model_id": "67715ebd5a9742b98150150e8cd5f45a",
       "version_major": 2,
       "version_minor": 0
      },
      "text/plain": [
       "  0%|          | 0/3 [00:00<?, ?it/s]"
      ]
     },
     "metadata": {},
     "output_type": "display_data"
    },
    {
     "name": "stdout",
     "output_type": "stream",
     "text": [
      "{'dropout': 0.0, 'embedding_dim': 150, 'hidden_dim': 300, 'num_layers': 2}\n"
     ]
    },
    {
     "data": {
      "application/vnd.jupyter.widget-view+json": {
       "model_id": "34489d26af2d4f968c79cb053569a973",
       "version_major": 2,
       "version_minor": 0
      },
      "text/plain": [
       "  0%|          | 0/3 [00:00<?, ?it/s]"
      ]
     },
     "metadata": {},
     "output_type": "display_data"
    },
    {
     "name": "stdout",
     "output_type": "stream",
     "text": [
      "{'dropout': 0.0, 'embedding_dim': 150, 'hidden_dim': 300, 'num_layers': 3}\n"
     ]
    },
    {
     "data": {
      "application/vnd.jupyter.widget-view+json": {
       "model_id": "2d44d0cabf654e4eafbdf11fb088e81f",
       "version_major": 2,
       "version_minor": 0
      },
      "text/plain": [
       "  0%|          | 0/3 [00:00<?, ?it/s]"
      ]
     },
     "metadata": {},
     "output_type": "display_data"
    },
    {
     "name": "stdout",
     "output_type": "stream",
     "text": [
      "{'dropout': 0.0, 'embedding_dim': 150, 'hidden_dim': 450, 'num_layers': 1}\n"
     ]
    },
    {
     "data": {
      "application/vnd.jupyter.widget-view+json": {
       "model_id": "413d44d01bfb45c9bdb6ddd07bdcf3e4",
       "version_major": 2,
       "version_minor": 0
      },
      "text/plain": [
       "  0%|          | 0/3 [00:00<?, ?it/s]"
      ]
     },
     "metadata": {},
     "output_type": "display_data"
    },
    {
     "name": "stdout",
     "output_type": "stream",
     "text": [
      "{'dropout': 0.0, 'embedding_dim': 150, 'hidden_dim': 450, 'num_layers': 2}\n"
     ]
    },
    {
     "data": {
      "application/vnd.jupyter.widget-view+json": {
       "model_id": "0bb04f44ed584cc2968d3c8ee09f1c9b",
       "version_major": 2,
       "version_minor": 0
      },
      "text/plain": [
       "  0%|          | 0/3 [00:00<?, ?it/s]"
      ]
     },
     "metadata": {},
     "output_type": "display_data"
    },
    {
     "name": "stdout",
     "output_type": "stream",
     "text": [
      "{'dropout': 0.0, 'embedding_dim': 150, 'hidden_dim': 450, 'num_layers': 3}\n"
     ]
    },
    {
     "data": {
      "application/vnd.jupyter.widget-view+json": {
       "model_id": "2669633b4e6248379cc7532c133aad16",
       "version_major": 2,
       "version_minor": 0
      },
      "text/plain": [
       "  0%|          | 0/3 [00:00<?, ?it/s]"
      ]
     },
     "metadata": {},
     "output_type": "display_data"
    },
    {
     "name": "stdout",
     "output_type": "stream",
     "text": [
      "{'dropout': 0.0, 'embedding_dim': 300, 'hidden_dim': 150, 'num_layers': 1}\n"
     ]
    },
    {
     "data": {
      "application/vnd.jupyter.widget-view+json": {
       "model_id": "e98e1a1745e44a88981f88617454dd91",
       "version_major": 2,
       "version_minor": 0
      },
      "text/plain": [
       "  0%|          | 0/3 [00:00<?, ?it/s]"
      ]
     },
     "metadata": {},
     "output_type": "display_data"
    },
    {
     "name": "stdout",
     "output_type": "stream",
     "text": [
      "{'dropout': 0.0, 'embedding_dim': 300, 'hidden_dim': 150, 'num_layers': 2}\n"
     ]
    },
    {
     "data": {
      "application/vnd.jupyter.widget-view+json": {
       "model_id": "4d66954d7f9b4a73b663c72ae4562800",
       "version_major": 2,
       "version_minor": 0
      },
      "text/plain": [
       "  0%|          | 0/3 [00:00<?, ?it/s]"
      ]
     },
     "metadata": {},
     "output_type": "display_data"
    },
    {
     "name": "stdout",
     "output_type": "stream",
     "text": [
      "{'dropout': 0.0, 'embedding_dim': 300, 'hidden_dim': 150, 'num_layers': 3}\n"
     ]
    },
    {
     "data": {
      "application/vnd.jupyter.widget-view+json": {
       "model_id": "491cf10b1a5e4610abee66335ab576f5",
       "version_major": 2,
       "version_minor": 0
      },
      "text/plain": [
       "  0%|          | 0/3 [00:00<?, ?it/s]"
      ]
     },
     "metadata": {},
     "output_type": "display_data"
    },
    {
     "name": "stdout",
     "output_type": "stream",
     "text": [
      "{'dropout': 0.0, 'embedding_dim': 300, 'hidden_dim': 300, 'num_layers': 1}\n"
     ]
    },
    {
     "data": {
      "application/vnd.jupyter.widget-view+json": {
       "model_id": "90114eb3392c4918b20c4cefb24b05bd",
       "version_major": 2,
       "version_minor": 0
      },
      "text/plain": [
       "  0%|          | 0/3 [00:00<?, ?it/s]"
      ]
     },
     "metadata": {},
     "output_type": "display_data"
    },
    {
     "name": "stdout",
     "output_type": "stream",
     "text": [
      "{'dropout': 0.0, 'embedding_dim': 300, 'hidden_dim': 300, 'num_layers': 2}\n"
     ]
    },
    {
     "data": {
      "application/vnd.jupyter.widget-view+json": {
       "model_id": "f816bdd008714a71bf5815bbd0c577f4",
       "version_major": 2,
       "version_minor": 0
      },
      "text/plain": [
       "  0%|          | 0/3 [00:00<?, ?it/s]"
      ]
     },
     "metadata": {},
     "output_type": "display_data"
    },
    {
     "name": "stdout",
     "output_type": "stream",
     "text": [
      "{'dropout': 0.0, 'embedding_dim': 300, 'hidden_dim': 300, 'num_layers': 3}\n"
     ]
    },
    {
     "data": {
      "application/vnd.jupyter.widget-view+json": {
       "model_id": "1498a05d80744c1d9762c3669a539c4d",
       "version_major": 2,
       "version_minor": 0
      },
      "text/plain": [
       "  0%|          | 0/3 [00:00<?, ?it/s]"
      ]
     },
     "metadata": {},
     "output_type": "display_data"
    },
    {
     "name": "stdout",
     "output_type": "stream",
     "text": [
      "{'dropout': 0.0, 'embedding_dim': 300, 'hidden_dim': 450, 'num_layers': 1}\n"
     ]
    },
    {
     "data": {
      "application/vnd.jupyter.widget-view+json": {
       "model_id": "dd565238d62445b0a3eb242b95dd4c95",
       "version_major": 2,
       "version_minor": 0
      },
      "text/plain": [
       "  0%|          | 0/3 [00:00<?, ?it/s]"
      ]
     },
     "metadata": {},
     "output_type": "display_data"
    },
    {
     "name": "stdout",
     "output_type": "stream",
     "text": [
      "{'dropout': 0.0, 'embedding_dim': 300, 'hidden_dim': 450, 'num_layers': 2}\n"
     ]
    },
    {
     "data": {
      "application/vnd.jupyter.widget-view+json": {
       "model_id": "fb745e093fb346ab8de31e9e712f117f",
       "version_major": 2,
       "version_minor": 0
      },
      "text/plain": [
       "  0%|          | 0/3 [00:00<?, ?it/s]"
      ]
     },
     "metadata": {},
     "output_type": "display_data"
    },
    {
     "name": "stdout",
     "output_type": "stream",
     "text": [
      "{'dropout': 0.0, 'embedding_dim': 300, 'hidden_dim': 450, 'num_layers': 3}\n"
     ]
    },
    {
     "data": {
      "application/vnd.jupyter.widget-view+json": {
       "model_id": "f294b3ab050e49aebfe911a21f6db999",
       "version_major": 2,
       "version_minor": 0
      },
      "text/plain": [
       "  0%|          | 0/3 [00:00<?, ?it/s]"
      ]
     },
     "metadata": {},
     "output_type": "display_data"
    },
    {
     "name": "stdout",
     "output_type": "stream",
     "text": [
      "{'dropout': 0.0, 'embedding_dim': 450, 'hidden_dim': 150, 'num_layers': 1}\n"
     ]
    },
    {
     "data": {
      "application/vnd.jupyter.widget-view+json": {
       "model_id": "b8957b5b815d45a294efd2f3d1e6ebc4",
       "version_major": 2,
       "version_minor": 0
      },
      "text/plain": [
       "  0%|          | 0/3 [00:00<?, ?it/s]"
      ]
     },
     "metadata": {},
     "output_type": "display_data"
    },
    {
     "name": "stdout",
     "output_type": "stream",
     "text": [
      "{'dropout': 0.0, 'embedding_dim': 450, 'hidden_dim': 150, 'num_layers': 2}\n"
     ]
    },
    {
     "data": {
      "application/vnd.jupyter.widget-view+json": {
       "model_id": "152697fe15744c619f4ec5cd470f5584",
       "version_major": 2,
       "version_minor": 0
      },
      "text/plain": [
       "  0%|          | 0/3 [00:00<?, ?it/s]"
      ]
     },
     "metadata": {},
     "output_type": "display_data"
    },
    {
     "name": "stdout",
     "output_type": "stream",
     "text": [
      "{'dropout': 0.0, 'embedding_dim': 450, 'hidden_dim': 150, 'num_layers': 3}\n"
     ]
    },
    {
     "data": {
      "application/vnd.jupyter.widget-view+json": {
       "model_id": "069dcff31965448aa1f88c3de6d667ae",
       "version_major": 2,
       "version_minor": 0
      },
      "text/plain": [
       "  0%|          | 0/3 [00:00<?, ?it/s]"
      ]
     },
     "metadata": {},
     "output_type": "display_data"
    },
    {
     "name": "stdout",
     "output_type": "stream",
     "text": [
      "{'dropout': 0.0, 'embedding_dim': 450, 'hidden_dim': 300, 'num_layers': 1}\n"
     ]
    },
    {
     "data": {
      "application/vnd.jupyter.widget-view+json": {
       "model_id": "d05618a702c145fe8fa1c71c09ac28b1",
       "version_major": 2,
       "version_minor": 0
      },
      "text/plain": [
       "  0%|          | 0/3 [00:00<?, ?it/s]"
      ]
     },
     "metadata": {},
     "output_type": "display_data"
    },
    {
     "name": "stdout",
     "output_type": "stream",
     "text": [
      "{'dropout': 0.0, 'embedding_dim': 450, 'hidden_dim': 300, 'num_layers': 2}\n"
     ]
    },
    {
     "data": {
      "application/vnd.jupyter.widget-view+json": {
       "model_id": "66d3b90e6013478f9b6f69f5cfb1f13e",
       "version_major": 2,
       "version_minor": 0
      },
      "text/plain": [
       "  0%|          | 0/3 [00:00<?, ?it/s]"
      ]
     },
     "metadata": {},
     "output_type": "display_data"
    },
    {
     "name": "stdout",
     "output_type": "stream",
     "text": [
      "{'dropout': 0.0, 'embedding_dim': 450, 'hidden_dim': 300, 'num_layers': 3}\n"
     ]
    },
    {
     "data": {
      "application/vnd.jupyter.widget-view+json": {
       "model_id": "d5227a585c334859a075c6a650531c7d",
       "version_major": 2,
       "version_minor": 0
      },
      "text/plain": [
       "  0%|          | 0/3 [00:00<?, ?it/s]"
      ]
     },
     "metadata": {},
     "output_type": "display_data"
    },
    {
     "name": "stdout",
     "output_type": "stream",
     "text": [
      "{'dropout': 0.0, 'embedding_dim': 450, 'hidden_dim': 450, 'num_layers': 1}\n"
     ]
    },
    {
     "data": {
      "application/vnd.jupyter.widget-view+json": {
       "model_id": "757c4e6843d447ffa1c9e1fee53a65fb",
       "version_major": 2,
       "version_minor": 0
      },
      "text/plain": [
       "  0%|          | 0/3 [00:00<?, ?it/s]"
      ]
     },
     "metadata": {},
     "output_type": "display_data"
    },
    {
     "name": "stdout",
     "output_type": "stream",
     "text": [
      "{'dropout': 0.0, 'embedding_dim': 450, 'hidden_dim': 450, 'num_layers': 2}\n"
     ]
    },
    {
     "data": {
      "application/vnd.jupyter.widget-view+json": {
       "model_id": "709f4a15a53e4858848792e419d82075",
       "version_major": 2,
       "version_minor": 0
      },
      "text/plain": [
       "  0%|          | 0/3 [00:00<?, ?it/s]"
      ]
     },
     "metadata": {},
     "output_type": "display_data"
    },
    {
     "name": "stdout",
     "output_type": "stream",
     "text": [
      "{'dropout': 0.0, 'embedding_dim': 450, 'hidden_dim': 450, 'num_layers': 3}\n"
     ]
    },
    {
     "data": {
      "application/vnd.jupyter.widget-view+json": {
       "model_id": "75b2c021475e487d92566b01ed71d3a3",
       "version_major": 2,
       "version_minor": 0
      },
      "text/plain": [
       "  0%|          | 0/3 [00:00<?, ?it/s]"
      ]
     },
     "metadata": {},
     "output_type": "display_data"
    },
    {
     "name": "stdout",
     "output_type": "stream",
     "text": [
      "{'dropout': 0.3, 'embedding_dim': 150, 'hidden_dim': 150, 'num_layers': 1}\n"
     ]
    },
    {
     "data": {
      "application/vnd.jupyter.widget-view+json": {
       "model_id": "8ce27ac5041c4ebc933dc8c3a8599b1c",
       "version_major": 2,
       "version_minor": 0
      },
      "text/plain": [
       "  0%|          | 0/3 [00:00<?, ?it/s]"
      ]
     },
     "metadata": {},
     "output_type": "display_data"
    },
    {
     "name": "stdout",
     "output_type": "stream",
     "text": [
      "{'dropout': 0.3, 'embedding_dim': 150, 'hidden_dim': 150, 'num_layers': 2}\n"
     ]
    },
    {
     "data": {
      "application/vnd.jupyter.widget-view+json": {
       "model_id": "5e5cb954b7d040939b291ec8dfb0de00",
       "version_major": 2,
       "version_minor": 0
      },
      "text/plain": [
       "  0%|          | 0/3 [00:00<?, ?it/s]"
      ]
     },
     "metadata": {},
     "output_type": "display_data"
    },
    {
     "name": "stdout",
     "output_type": "stream",
     "text": [
      "{'dropout': 0.3, 'embedding_dim': 150, 'hidden_dim': 150, 'num_layers': 3}\n"
     ]
    },
    {
     "data": {
      "application/vnd.jupyter.widget-view+json": {
       "model_id": "d311ff9a025c4c7aadf5722d3d299be5",
       "version_major": 2,
       "version_minor": 0
      },
      "text/plain": [
       "  0%|          | 0/3 [00:00<?, ?it/s]"
      ]
     },
     "metadata": {},
     "output_type": "display_data"
    },
    {
     "name": "stdout",
     "output_type": "stream",
     "text": [
      "{'dropout': 0.3, 'embedding_dim': 150, 'hidden_dim': 300, 'num_layers': 1}\n"
     ]
    },
    {
     "data": {
      "application/vnd.jupyter.widget-view+json": {
       "model_id": "6b476312f442472bbcc44261fa070588",
       "version_major": 2,
       "version_minor": 0
      },
      "text/plain": [
       "  0%|          | 0/3 [00:00<?, ?it/s]"
      ]
     },
     "metadata": {},
     "output_type": "display_data"
    },
    {
     "name": "stdout",
     "output_type": "stream",
     "text": [
      "{'dropout': 0.3, 'embedding_dim': 150, 'hidden_dim': 300, 'num_layers': 2}\n"
     ]
    },
    {
     "data": {
      "application/vnd.jupyter.widget-view+json": {
       "model_id": "eee5e04b70624d2b98146cb8eb495504",
       "version_major": 2,
       "version_minor": 0
      },
      "text/plain": [
       "  0%|          | 0/3 [00:00<?, ?it/s]"
      ]
     },
     "metadata": {},
     "output_type": "display_data"
    },
    {
     "name": "stdout",
     "output_type": "stream",
     "text": [
      "{'dropout': 0.3, 'embedding_dim': 150, 'hidden_dim': 300, 'num_layers': 3}\n"
     ]
    },
    {
     "data": {
      "application/vnd.jupyter.widget-view+json": {
       "model_id": "1db05a96e74e4fc8855879ef021e699c",
       "version_major": 2,
       "version_minor": 0
      },
      "text/plain": [
       "  0%|          | 0/3 [00:00<?, ?it/s]"
      ]
     },
     "metadata": {},
     "output_type": "display_data"
    },
    {
     "name": "stdout",
     "output_type": "stream",
     "text": [
      "{'dropout': 0.3, 'embedding_dim': 150, 'hidden_dim': 450, 'num_layers': 1}\n"
     ]
    },
    {
     "data": {
      "application/vnd.jupyter.widget-view+json": {
       "model_id": "cc76879040a84d21965b4e4b2388b660",
       "version_major": 2,
       "version_minor": 0
      },
      "text/plain": [
       "  0%|          | 0/3 [00:00<?, ?it/s]"
      ]
     },
     "metadata": {},
     "output_type": "display_data"
    },
    {
     "name": "stdout",
     "output_type": "stream",
     "text": [
      "{'dropout': 0.3, 'embedding_dim': 150, 'hidden_dim': 450, 'num_layers': 2}\n"
     ]
    },
    {
     "data": {
      "application/vnd.jupyter.widget-view+json": {
       "model_id": "fbc0980ce9a84a779be093a0b5727df1",
       "version_major": 2,
       "version_minor": 0
      },
      "text/plain": [
       "  0%|          | 0/3 [00:00<?, ?it/s]"
      ]
     },
     "metadata": {},
     "output_type": "display_data"
    },
    {
     "name": "stdout",
     "output_type": "stream",
     "text": [
      "{'dropout': 0.3, 'embedding_dim': 150, 'hidden_dim': 450, 'num_layers': 3}\n"
     ]
    },
    {
     "data": {
      "application/vnd.jupyter.widget-view+json": {
       "model_id": "2766e39788cb416ab90ad1240357f6e0",
       "version_major": 2,
       "version_minor": 0
      },
      "text/plain": [
       "  0%|          | 0/3 [00:00<?, ?it/s]"
      ]
     },
     "metadata": {},
     "output_type": "display_data"
    },
    {
     "name": "stdout",
     "output_type": "stream",
     "text": [
      "{'dropout': 0.3, 'embedding_dim': 300, 'hidden_dim': 150, 'num_layers': 1}\n"
     ]
    },
    {
     "data": {
      "application/vnd.jupyter.widget-view+json": {
       "model_id": "e59977ed48ec4bd3beadea9c3cf91209",
       "version_major": 2,
       "version_minor": 0
      },
      "text/plain": [
       "  0%|          | 0/3 [00:00<?, ?it/s]"
      ]
     },
     "metadata": {},
     "output_type": "display_data"
    },
    {
     "name": "stdout",
     "output_type": "stream",
     "text": [
      "{'dropout': 0.3, 'embedding_dim': 300, 'hidden_dim': 150, 'num_layers': 2}\n"
     ]
    },
    {
     "data": {
      "application/vnd.jupyter.widget-view+json": {
       "model_id": "52588df9b41245e2b31a6e9510fd2d43",
       "version_major": 2,
       "version_minor": 0
      },
      "text/plain": [
       "  0%|          | 0/3 [00:00<?, ?it/s]"
      ]
     },
     "metadata": {},
     "output_type": "display_data"
    },
    {
     "name": "stdout",
     "output_type": "stream",
     "text": [
      "{'dropout': 0.3, 'embedding_dim': 300, 'hidden_dim': 150, 'num_layers': 3}\n"
     ]
    },
    {
     "data": {
      "application/vnd.jupyter.widget-view+json": {
       "model_id": "e8f4a865c93a4843a468d87419cd933c",
       "version_major": 2,
       "version_minor": 0
      },
      "text/plain": [
       "  0%|          | 0/3 [00:00<?, ?it/s]"
      ]
     },
     "metadata": {},
     "output_type": "display_data"
    },
    {
     "name": "stdout",
     "output_type": "stream",
     "text": [
      "{'dropout': 0.3, 'embedding_dim': 300, 'hidden_dim': 300, 'num_layers': 1}\n"
     ]
    },
    {
     "data": {
      "application/vnd.jupyter.widget-view+json": {
       "model_id": "f5131cebf40944e9a0668420a3f21eb8",
       "version_major": 2,
       "version_minor": 0
      },
      "text/plain": [
       "  0%|          | 0/3 [00:00<?, ?it/s]"
      ]
     },
     "metadata": {},
     "output_type": "display_data"
    },
    {
     "name": "stdout",
     "output_type": "stream",
     "text": [
      "{'dropout': 0.3, 'embedding_dim': 300, 'hidden_dim': 300, 'num_layers': 2}\n"
     ]
    },
    {
     "data": {
      "application/vnd.jupyter.widget-view+json": {
       "model_id": "c1708cf73dcd4718a14fc64f56e5f578",
       "version_major": 2,
       "version_minor": 0
      },
      "text/plain": [
       "  0%|          | 0/3 [00:00<?, ?it/s]"
      ]
     },
     "metadata": {},
     "output_type": "display_data"
    },
    {
     "name": "stdout",
     "output_type": "stream",
     "text": [
      "{'dropout': 0.3, 'embedding_dim': 300, 'hidden_dim': 300, 'num_layers': 3}\n"
     ]
    },
    {
     "data": {
      "application/vnd.jupyter.widget-view+json": {
       "model_id": "681cc1dd5f4a4d5681f425fc641c41bd",
       "version_major": 2,
       "version_minor": 0
      },
      "text/plain": [
       "  0%|          | 0/3 [00:00<?, ?it/s]"
      ]
     },
     "metadata": {},
     "output_type": "display_data"
    },
    {
     "name": "stdout",
     "output_type": "stream",
     "text": [
      "{'dropout': 0.3, 'embedding_dim': 300, 'hidden_dim': 450, 'num_layers': 1}\n"
     ]
    },
    {
     "data": {
      "application/vnd.jupyter.widget-view+json": {
       "model_id": "f3927b388d9a4dfbb8845eb49eecfc78",
       "version_major": 2,
       "version_minor": 0
      },
      "text/plain": [
       "  0%|          | 0/3 [00:00<?, ?it/s]"
      ]
     },
     "metadata": {},
     "output_type": "display_data"
    },
    {
     "name": "stdout",
     "output_type": "stream",
     "text": [
      "{'dropout': 0.3, 'embedding_dim': 300, 'hidden_dim': 450, 'num_layers': 2}\n"
     ]
    },
    {
     "data": {
      "application/vnd.jupyter.widget-view+json": {
       "model_id": "68b6e4315f35448b98365cf27216caad",
       "version_major": 2,
       "version_minor": 0
      },
      "text/plain": [
       "  0%|          | 0/3 [00:00<?, ?it/s]"
      ]
     },
     "metadata": {},
     "output_type": "display_data"
    },
    {
     "name": "stdout",
     "output_type": "stream",
     "text": [
      "{'dropout': 0.3, 'embedding_dim': 300, 'hidden_dim': 450, 'num_layers': 3}\n"
     ]
    },
    {
     "data": {
      "application/vnd.jupyter.widget-view+json": {
       "model_id": "56c478f090cb427aa8802e17caff96dc",
       "version_major": 2,
       "version_minor": 0
      },
      "text/plain": [
       "  0%|          | 0/3 [00:00<?, ?it/s]"
      ]
     },
     "metadata": {},
     "output_type": "display_data"
    },
    {
     "name": "stdout",
     "output_type": "stream",
     "text": [
      "{'dropout': 0.3, 'embedding_dim': 450, 'hidden_dim': 150, 'num_layers': 1}\n"
     ]
    },
    {
     "data": {
      "application/vnd.jupyter.widget-view+json": {
       "model_id": "eb2fbf02f9de4d26beada662248224aa",
       "version_major": 2,
       "version_minor": 0
      },
      "text/plain": [
       "  0%|          | 0/3 [00:00<?, ?it/s]"
      ]
     },
     "metadata": {},
     "output_type": "display_data"
    },
    {
     "name": "stdout",
     "output_type": "stream",
     "text": [
      "{'dropout': 0.3, 'embedding_dim': 450, 'hidden_dim': 150, 'num_layers': 2}\n"
     ]
    },
    {
     "data": {
      "application/vnd.jupyter.widget-view+json": {
       "model_id": "e6eea5d8ac4f4e7985568de8bbdbee20",
       "version_major": 2,
       "version_minor": 0
      },
      "text/plain": [
       "  0%|          | 0/3 [00:00<?, ?it/s]"
      ]
     },
     "metadata": {},
     "output_type": "display_data"
    },
    {
     "name": "stdout",
     "output_type": "stream",
     "text": [
      "{'dropout': 0.3, 'embedding_dim': 450, 'hidden_dim': 150, 'num_layers': 3}\n"
     ]
    },
    {
     "data": {
      "application/vnd.jupyter.widget-view+json": {
       "model_id": "4abaf234fe2c42728dceb0c74c74eced",
       "version_major": 2,
       "version_minor": 0
      },
      "text/plain": [
       "  0%|          | 0/3 [00:00<?, ?it/s]"
      ]
     },
     "metadata": {},
     "output_type": "display_data"
    },
    {
     "name": "stdout",
     "output_type": "stream",
     "text": [
      "{'dropout': 0.3, 'embedding_dim': 450, 'hidden_dim': 300, 'num_layers': 1}\n"
     ]
    },
    {
     "data": {
      "application/vnd.jupyter.widget-view+json": {
       "model_id": "80dd8d66649741b2822b8d9277d22464",
       "version_major": 2,
       "version_minor": 0
      },
      "text/plain": [
       "  0%|          | 0/3 [00:00<?, ?it/s]"
      ]
     },
     "metadata": {},
     "output_type": "display_data"
    },
    {
     "name": "stdout",
     "output_type": "stream",
     "text": [
      "{'dropout': 0.3, 'embedding_dim': 450, 'hidden_dim': 300, 'num_layers': 2}\n"
     ]
    },
    {
     "data": {
      "application/vnd.jupyter.widget-view+json": {
       "model_id": "efc4144f817c4c7285576a567ad21302",
       "version_major": 2,
       "version_minor": 0
      },
      "text/plain": [
       "  0%|          | 0/3 [00:00<?, ?it/s]"
      ]
     },
     "metadata": {},
     "output_type": "display_data"
    },
    {
     "name": "stdout",
     "output_type": "stream",
     "text": [
      "{'dropout': 0.3, 'embedding_dim': 450, 'hidden_dim': 300, 'num_layers': 3}\n"
     ]
    },
    {
     "data": {
      "application/vnd.jupyter.widget-view+json": {
       "model_id": "e560428821604c51ae8a2987b318d620",
       "version_major": 2,
       "version_minor": 0
      },
      "text/plain": [
       "  0%|          | 0/3 [00:00<?, ?it/s]"
      ]
     },
     "metadata": {},
     "output_type": "display_data"
    },
    {
     "name": "stdout",
     "output_type": "stream",
     "text": [
      "{'dropout': 0.3, 'embedding_dim': 450, 'hidden_dim': 450, 'num_layers': 1}\n"
     ]
    },
    {
     "data": {
      "application/vnd.jupyter.widget-view+json": {
       "model_id": "2091abc85670410690db2573289412fb",
       "version_major": 2,
       "version_minor": 0
      },
      "text/plain": [
       "  0%|          | 0/3 [00:00<?, ?it/s]"
      ]
     },
     "metadata": {},
     "output_type": "display_data"
    },
    {
     "name": "stdout",
     "output_type": "stream",
     "text": [
      "{'dropout': 0.3, 'embedding_dim': 450, 'hidden_dim': 450, 'num_layers': 2}\n"
     ]
    },
    {
     "data": {
      "application/vnd.jupyter.widget-view+json": {
       "model_id": "5eccd7934eb743188328c57102baa170",
       "version_major": 2,
       "version_minor": 0
      },
      "text/plain": [
       "  0%|          | 0/3 [00:00<?, ?it/s]"
      ]
     },
     "metadata": {},
     "output_type": "display_data"
    },
    {
     "name": "stdout",
     "output_type": "stream",
     "text": [
      "{'dropout': 0.3, 'embedding_dim': 450, 'hidden_dim': 450, 'num_layers': 3}\n"
     ]
    },
    {
     "data": {
      "application/vnd.jupyter.widget-view+json": {
       "model_id": "9116276ed5e34223bff00ec61be7117d",
       "version_major": 2,
       "version_minor": 0
      },
      "text/plain": [
       "  0%|          | 0/3 [00:00<?, ?it/s]"
      ]
     },
     "metadata": {},
     "output_type": "display_data"
    }
   ],
   "source": [
    "grid = ParameterGrid({\n",
    "    'num_layers' : [1, 2, 3],\n",
    "    'embedding_dim': [150, 300, 450],\n",
    "    'hidden_dim': [150, 300, 450],\n",
    "    'dropout': [0.0, 0.3]\n",
    "})\n",
    "\n",
    "for item in tqdm(grid):\n",
    "    print(str(item))\n",
    "\n",
    "    model = LSTMTagger(\n",
    "        vocab_size=len(token_to_idx),\n",
    "        tagset_size=len(tag_to_idx),\n",
    "        **item\n",
    "    )\n",
    "\n",
    "    writer = SummaryWriter('experiments/' + str(item))\n",
    "\n",
    "    model.float().to(device)\n",
    "\n",
    "    call = callback(writer, test_dataloader, loss_function, delimeter=300)\n",
    "\n",
    "    trainer(count_of_epoch=3,\n",
    "        dataset_loader=train_dataloader,\n",
    "        model=model,\n",
    "        loss_function=loss_function,\n",
    "        optimizer=optimizer,\n",
    "        lr=0.001,\n",
    "        callback=call)"
   ]
  },
  {
   "cell_type": "markdown",
   "metadata": {},
   "source": [
    "### Conclusions"
   ]
  },
  {
   "cell_type": "markdown",
   "metadata": {},
   "source": [
    "Написана обвязка для dataset-a, реализована модель LSTM, проведен grid-search по гиперпараметрам, выполнена оценка loss и accuracy.\n",
    "\n",
    "Результаты:\n",
    "- Все модели имеют очень близкое качество\n",
    "- Количество слоев почти не влияет на качество модели\n",
    "- Dropout почти не влияет на качество модели\n",
    "- Самое значительное влияние оказывает размерность входа и выхода LSTM\n",
    "- Самая простая модель (1, 150, 150) обучилась в 5 раз быстрее самой сложной (3, 450, 450)\n",
    "\n",
    "Модели показали высокую точность (0.93-0.94), причем усложнение моделей не дало сильного прироста. Значения на train и test отличаются не критично, то есть модели не переобучились."
   ]
  },
  {
   "cell_type": "code",
   "execution_count": null,
   "metadata": {},
   "outputs": [],
   "source": []
  }
 ],
 "metadata": {
  "kernelspec": {
   "display_name": "Python 3 (ipykernel)",
   "language": "python",
   "name": "python3"
  },
  "language_info": {
   "codemirror_mode": {
    "name": "ipython",
    "version": 3
   },
   "file_extension": ".py",
   "mimetype": "text/x-python",
   "name": "python",
   "nbconvert_exporter": "python",
   "pygments_lexer": "ipython3",
   "version": "3.13.1"
  }
 },
 "nbformat": 4,
 "nbformat_minor": 4
}
