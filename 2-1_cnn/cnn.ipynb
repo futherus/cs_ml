{
 "cells": [
  {
   "cell_type": "code",
   "execution_count": 1,
   "metadata": {},
   "outputs": [],
   "source": [
    "from sklearn.model_selection import ParameterGrid\n",
    "from tqdm import tqdm\n",
    "import numpy as np\n",
    "\n",
    "from torch.utils.tensorboard import SummaryWriter\n",
    "from torchvision.datasets import EMNIST\n",
    "import torchvision\n",
    "import torch\n",
    "\n",
    "import matplotlib.pyplot as plt"
   ]
  },
  {
   "cell_type": "code",
   "execution_count": 2,
   "metadata": {},
   "outputs": [
    {
     "data": {
      "text/plain": [
       "device(type='cuda')"
      ]
     },
     "execution_count": 2,
     "metadata": {},
     "output_type": "execute_result"
    }
   ],
   "source": [
    "device = torch.device('cuda' if torch.cuda.is_available() else 'cpu')\n",
    "device"
   ]
  },
  {
   "cell_type": "markdown",
   "metadata": {},
   "source": [
    "### Dataset"
   ]
  },
  {
   "cell_type": "code",
   "execution_count": 3,
   "metadata": {},
   "outputs": [],
   "source": [
    "random_seed = 42\n",
    "np.random.seed(random_seed)\n",
    "torch.manual_seed(random_seed)\n",
    "torch.cuda.manual_seed(random_seed)"
   ]
  },
  {
   "cell_type": "code",
   "execution_count": 4,
   "metadata": {
    "scrolled": true
   },
   "outputs": [],
   "source": [
    "transform = torchvision.transforms.Compose([\n",
    "    lambda img: torchvision.transforms.functional.rotate(img, -90),\n",
    "    lambda img: torchvision.transforms.functional.hflip(img),\n",
    "    torchvision.transforms.ToTensor()\n",
    "])\n",
    "\n",
    "train_data = EMNIST(\n",
    "    root='data',\n",
    "    split='letters',\n",
    "    train=True,\n",
    "    download=True,\n",
    "    transform=transform\n",
    ")\n",
    "test_data = EMNIST(\n",
    "    root='data',\n",
    "    split='letters',\n",
    "    train=False,\n",
    "    download=True,\n",
    "    transform=transform\n",
    ")"
   ]
  },
  {
   "cell_type": "code",
   "execution_count": 5,
   "metadata": {},
   "outputs": [
    {
     "name": "stdout",
     "output_type": "stream",
     "text": [
      "124800\n",
      "20800\n",
      "['N/A', 'a', 'b', 'c', 'd', 'e', 'f', 'g', 'h', 'i', 'j', 'k', 'l', 'm', 'n', 'o', 'p', 'q', 'r', 's', 't', 'u', 'v', 'w', 'x', 'y', 'z']\n",
      "Amount of classes: 27\n",
      "Image size: [C,W,H] = torch.Size([1, 28, 28])\n"
     ]
    }
   ],
   "source": [
    "print(len(train_data))\n",
    "print(len(test_data))\n",
    "print(train_data.classes)\n",
    "n_classes = len(train_data.classes)\n",
    "print(f\"Amount of classes: {n_classes}\")\n",
    "print(f\"Image size: [C,W,H] = {train_data[0][0].size()}\")"
   ]
  },
  {
   "cell_type": "code",
   "execution_count": 6,
   "metadata": {},
   "outputs": [
    {
     "data": {
      "image/png": "[encoded data removed]",
      "text/plain": [
       "<Figure size 1000x200 with 5 Axes>"
      ]
     },
     "metadata": {},
     "output_type": "display_data"
    },
    {
     "name": "stdout",
     "output_type": "stream",
     "text": [
      "['l', 'u', 'n', 't', 'b']\n"
     ]
    }
   ],
   "source": [
    "figure = plt.figure(figsize=(10, 2))\n",
    "\n",
    "N = 5\n",
    "labels = []\n",
    "for i in range(1, N+1):\n",
    "    sample_idx = torch.randint(len(train_data), size=(1,)).item()\n",
    "    img, label = train_data[sample_idx]\n",
    "    labels.append(train_data.classes[label])\n",
    "    figure.add_subplot(1, N, i)\n",
    "    plt.imshow(img.squeeze(), cmap=\"gray\")\n",
    "    plt.axis(\"off\")\n",
    "plt.show()\n",
    "print(labels)\n"
   ]
  },
  {
   "cell_type": "markdown",
   "metadata": {},
   "source": [
    "### Код для обучения"
   ]
  },
  {
   "cell_type": "markdown",
   "metadata": {},
   "source": [
    "Взят из семинаров"
   ]
  },
  {
   "cell_type": "code",
   "execution_count": 7,
   "metadata": {},
   "outputs": [],
   "source": [
    "def train_on_batch(model,\n",
    "                   x_batch,\n",
    "                   y_batch,\n",
    "                   optimizer,\n",
    "                   loss_function):\n",
    "    \n",
    "    model.train()\n",
    "    model.zero_grad()\n",
    "\n",
    "    output = model(x_batch.to(device))\n",
    "\n",
    "    loss = loss_function(output, y_batch.to(device))\n",
    "    loss.backward()\n",
    "\n",
    "    optimizer.step()\n",
    "    return loss.cpu().item()"
   ]
  },
  {
   "cell_type": "code",
   "execution_count": 8,
   "metadata": {},
   "outputs": [],
   "source": [
    "def train_epoch(train_generator,\n",
    "                model,\n",
    "                loss_function,\n",
    "                optimizer,\n",
    "                callback=None):\n",
    "    \n",
    "    epoch_loss = 0\n",
    "    total = 0\n",
    "\n",
    "    for it, (batch_of_x, batch_of_y) in enumerate(train_generator):\n",
    "        batch_loss = train_on_batch(model, batch_of_x.to(device), batch_of_y.to(device), optimizer, loss_function)\n",
    "\n",
    "        if callback is not None:\n",
    "            callback(model, batch_loss)\n",
    "\n",
    "        epoch_loss += batch_loss * len(batch_of_x)\n",
    "        total += len(batch_of_x)\n",
    "\n",
    "    return epoch_loss / total"
   ]
  },
  {
   "cell_type": "code",
   "execution_count": 9,
   "metadata": {},
   "outputs": [],
   "source": [
    "def trainer(count_of_epoch,\n",
    "            batch_size,\n",
    "            dataset,\n",
    "            model,\n",
    "            loss_function,\n",
    "            optimizer,\n",
    "            lr=0.001,\n",
    "            callback=None):\n",
    "\n",
    "    optima = optimizer(model.parameters(), lr=lr)\n",
    "\n",
    "    iterations = range(count_of_epoch)\n",
    "    for it in iterations:\n",
    "        batch_generator = torch.utils.data.DataLoader(dataset=dataset,\n",
    "                                                      batch_size=batch_size,\n",
    "                                                      shuffle=True)\n",
    "\n",
    "        epoch_loss = train_epoch(\n",
    "            train_generator=batch_generator,\n",
    "            model=model,\n",
    "            loss_function=loss_function,\n",
    "            optimizer=optima,\n",
    "            callback=callback\n",
    "        )"
   ]
  },
  {
   "cell_type": "code",
   "execution_count": 10,
   "metadata": {},
   "outputs": [],
   "source": [
    "def quality_of_train(batch_size,\n",
    "                     dataset,\n",
    "                     model,\n",
    "                     loss_function):\n",
    "\n",
    "    batch_generator = torch.utils.data.DataLoader(dataset=dataset,\n",
    "                                                  batch_size=batch_size)\n",
    "\n",
    "    pred = []\n",
    "    real = []\n",
    "    test_loss = 0\n",
    "\n",
    "    for it, (x_batch, y_batch) in enumerate(batch_generator):\n",
    "        x_batch = x_batch.to(device)\n",
    "        y_batch = y_batch.to(device)\n",
    "\n",
    "        output = model(x_batch)\n",
    "\n",
    "        test_loss += loss_function(output, y_batch).cpu().item() * len(x_batch)\n",
    "\n",
    "        pred.extend(torch.argmax(output, dim=-1).cpu().numpy().tolist())\n",
    "        real.extend(y_batch.cpu().numpy().tolist())\n",
    "\n",
    "    test_loss /= len(dataset)\n",
    "\n",
    "    return test_loss, pred, real"
   ]
  },
  {
   "cell_type": "markdown",
   "metadata": {},
   "source": [
    "### CNN model"
   ]
  },
  {
   "cell_type": "code",
   "execution_count": 11,
   "metadata": {},
   "outputs": [],
   "source": [
    "class CNN(torch.nn.Module):\n",
    "    @property\n",
    "    def device(self):\n",
    "        for p in self.parameters():\n",
    "            return p.device\n",
    "\n",
    "    def __init__(self, n_layers=1, kernel_size=5, pooling=False, batch_norm=False, dropout=0.0):\n",
    "        super().__init__()\n",
    "\n",
    "        # Number of channels in input pictures (black&white picture => 1 channel).\n",
    "        self.n_channels = 1\n",
    "        self.layers = torch.nn.Sequential()\n",
    "\n",
    "        for layer in range(n_layers):\n",
    "            # Convolution with n_channels*4 filters/kernels of size (n_channels, kernel_size, kernel_size)\n",
    "            self.layers.add_module('conv' + str(layer),\n",
    "                torch.nn.Conv2d(self.n_channels, self.n_channels * 4,\n",
    "                                kernel_size=kernel_size, padding=(kernel_size - 1) // 2))\n",
    "            self.n_channels *= 4\n",
    "\n",
    "            # Batch normalization\n",
    "            if batch_norm:\n",
    "                self.layers.add_module('bn' + str(layer), torch.nn.BatchNorm2d(self.n_channels))\n",
    "\n",
    "            self.layers.add_module('relu' + str(layer), torch.nn.ReLU())\n",
    "\n",
    "            if pooling:\n",
    "                # Pooling with kernel_size = stride\n",
    "                self.layers.add_module('pool' + str(layer), torch.nn.MaxPool2d(kernel_size=2))\n",
    "\n",
    "        self.layers.add_module('flatten', torch.nn.Flatten(start_dim=1))\n",
    "        self.layers.add_module('dropout', torch.nn.Dropout(dropout))\n",
    "        # Use LazyLinear to automatically infer amount of in_features\n",
    "        self.layers.add_module('linear', torch.nn.LazyLinear(n_classes))\n",
    "\n",
    "        # Do not use softmax, because we use CrossEntropyLoss, which uses softmax internally.\n",
    "        # See: https://discuss.pytorch.org/t/pytorch-torch-nn-equivalent-of-tensorflow-keras-dense-layers/133518/6\n",
    "\n",
    "    def forward(self, input):\n",
    "        return self.layers(input)"
   ]
  },
  {
   "cell_type": "markdown",
   "metadata": {},
   "source": [
    "### Tensorboard callback"
   ]
  },
  {
   "cell_type": "code",
   "execution_count": 12,
   "metadata": {},
   "outputs": [],
   "source": [
    "class tensorboard_callback():\n",
    "    def __init__(self, writer, dataset, loss_function, batch_size, delimeter):\n",
    "        self.step = 0\n",
    "        self.writer = writer\n",
    "        self.delimeter = delimeter\n",
    "        self.loss_function = loss_function\n",
    "        self.batch_size = batch_size\n",
    "\n",
    "        self.dataset = dataset\n",
    "\n",
    "    def forward(self, model, loss):\n",
    "        self.step += 1\n",
    "        self.writer.add_scalar('LOSS/train', loss, self.step)\n",
    "\n",
    "        if self.step % self.delimeter == 0:\n",
    "            self.writer.add_graph(model, self.dataset[0][0].view(1, 1, 28, 28).to(model.device))\n",
    "\n",
    "            test_loss, pred, real = quality_of_train(batch_size=self.batch_size, dataset=self.dataset,\n",
    "                                                     model=model, loss_function=self.loss_function)\n",
    "            self.writer.add_scalar('LOSS/test', test_loss, self.step)\n",
    "            self.writer.add_scalar('ACCURACY/test',\n",
    "                                   1 - np.count_nonzero(np.array(pred) - np.array(real)) / len(self.dataset),\n",
    "                                   self.step)\n",
    "\n",
    "    def __call__(self, model, loss):\n",
    "        return self.forward(model, loss)"
   ]
  },
  {
   "cell_type": "markdown",
   "metadata": {},
   "source": [
    "### Code for CNN training"
   ]
  },
  {
   "cell_type": "code",
   "execution_count": 13,
   "metadata": {},
   "outputs": [],
   "source": [
    "loss_function = torch.nn.CrossEntropyLoss()\n",
    "optimizer = torch.optim.Adam\n",
    "batch_size = 128"
   ]
  },
  {
   "cell_type": "code",
   "execution_count": 15,
   "metadata": {},
   "outputs": [
    {
     "name": "stderr",
     "output_type": "stream",
     "text": [
      "  0%|                                                                                                                                                  | 0/32 [00:00<?, ?it/s]"
     ]
    },
    {
     "name": "stdout",
     "output_type": "stream",
     "text": [
      "{'batch_norm': False, 'dropout': 0.0, 'kernel_size': 3, 'n_layers': 2, 'pooling': False}\n"
     ]
    },
    {
     "name": "stderr",
     "output_type": "stream",
     "text": [
      "  3%|████▎                                                                                                                                     | 1/32 [00:48<25:18, 48.97s/it]"
     ]
    },
    {
     "name": "stdout",
     "output_type": "stream",
     "text": [
      "{'batch_norm': False, 'dropout': 0.0, 'kernel_size': 3, 'n_layers': 2, 'pooling': True}\n"
     ]
    },
    {
     "name": "stderr",
     "output_type": "stream",
     "text": [
      "  6%|████████▋                                                                                                                                 | 2/32 [01:37<24:20, 48.69s/it]"
     ]
    },
    {
     "name": "stdout",
     "output_type": "stream",
     "text": [
      "{'batch_norm': False, 'dropout': 0.0, 'kernel_size': 3, 'n_layers': 3, 'pooling': False}\n"
     ]
    },
    {
     "name": "stderr",
     "output_type": "stream",
     "text": [
      "  9%|████████████▉                                                                                                                             | 3/32 [02:38<26:17, 54.40s/it]"
     ]
    },
    {
     "name": "stdout",
     "output_type": "stream",
     "text": [
      "{'batch_norm': False, 'dropout': 0.0, 'kernel_size': 3, 'n_layers': 3, 'pooling': True}\n"
     ]
    },
    {
     "name": "stderr",
     "output_type": "stream",
     "text": [
      " 12%|█████████████████▎                                                                                                                        | 4/32 [03:28<24:30, 52.52s/it]"
     ]
    },
    {
     "name": "stdout",
     "output_type": "stream",
     "text": [
      "{'batch_norm': False, 'dropout': 0.0, 'kernel_size': 5, 'n_layers': 2, 'pooling': False}\n"
     ]
    },
    {
     "name": "stderr",
     "output_type": "stream",
     "text": [
      " 16%|█████████████████████▌                                                                                                                    | 5/32 [04:19<23:27, 52.12s/it]"
     ]
    },
    {
     "name": "stdout",
     "output_type": "stream",
     "text": [
      "{'batch_norm': False, 'dropout': 0.0, 'kernel_size': 5, 'n_layers': 2, 'pooling': True}\n"
     ]
    },
    {
     "name": "stderr",
     "output_type": "stream",
     "text": [
      " 19%|█████████████████████████▉                                                                                                                | 6/32 [05:07<21:57, 50.66s/it]"
     ]
    },
    {
     "name": "stdout",
     "output_type": "stream",
     "text": [
      "{'batch_norm': False, 'dropout': 0.0, 'kernel_size': 5, 'n_layers': 3, 'pooling': False}\n"
     ]
    },
    {
     "name": "stderr",
     "output_type": "stream",
     "text": [
      " 22%|██████████████████████████████▏                                                                                                           | 7/32 [06:20<24:04, 57.79s/it]"
     ]
    },
    {
     "name": "stdout",
     "output_type": "stream",
     "text": [
      "{'batch_norm': False, 'dropout': 0.0, 'kernel_size': 5, 'n_layers': 3, 'pooling': True}\n"
     ]
    },
    {
     "name": "stderr",
     "output_type": "stream",
     "text": [
      " 25%|██████████████████████████████████▌                                                                                                       | 8/32 [07:11<22:16, 55.69s/it]"
     ]
    },
    {
     "name": "stdout",
     "output_type": "stream",
     "text": [
      "{'batch_norm': False, 'dropout': 0.3, 'kernel_size': 3, 'n_layers': 2, 'pooling': False}\n"
     ]
    },
    {
     "name": "stderr",
     "output_type": "stream",
     "text": [
      " 28%|██████████████████████████████████████▊                                                                                                   | 9/32 [08:01<20:43, 54.06s/it]"
     ]
    },
    {
     "name": "stdout",
     "output_type": "stream",
     "text": [
      "{'batch_norm': False, 'dropout': 0.3, 'kernel_size': 3, 'n_layers': 2, 'pooling': True}\n"
     ]
    },
    {
     "name": "stderr",
     "output_type": "stream",
     "text": [
      " 31%|██████████████████████████████████████████▊                                                                                              | 10/32 [08:52<19:29, 53.14s/it]"
     ]
    },
    {
     "name": "stdout",
     "output_type": "stream",
     "text": [
      "{'batch_norm': False, 'dropout': 0.3, 'kernel_size': 3, 'n_layers': 3, 'pooling': False}\n"
     ]
    },
    {
     "name": "stderr",
     "output_type": "stream",
     "text": [
      " 34%|███████████████████████████████████████████████                                                                                          | 11/32 [09:58<19:58, 57.05s/it]"
     ]
    },
    {
     "name": "stdout",
     "output_type": "stream",
     "text": [
      "{'batch_norm': False, 'dropout': 0.3, 'kernel_size': 3, 'n_layers': 3, 'pooling': True}\n"
     ]
    },
    {
     "name": "stderr",
     "output_type": "stream",
     "text": [
      " 38%|███████████████████████████████████████████████████▍                                                                                     | 12/32 [10:52<18:39, 55.96s/it]"
     ]
    },
    {
     "name": "stdout",
     "output_type": "stream",
     "text": [
      "{'batch_norm': False, 'dropout': 0.3, 'kernel_size': 5, 'n_layers': 2, 'pooling': False}\n"
     ]
    },
    {
     "name": "stderr",
     "output_type": "stream",
     "text": [
      " 41%|███████████████████████████████████████████████████████▋                                                                                 | 13/32 [11:46<17:34, 55.50s/it]"
     ]
    },
    {
     "name": "stdout",
     "output_type": "stream",
     "text": [
      "{'batch_norm': False, 'dropout': 0.3, 'kernel_size': 5, 'n_layers': 2, 'pooling': True}\n"
     ]
    },
    {
     "name": "stderr",
     "output_type": "stream",
     "text": [
      " 44%|███████████████████████████████████████████████████████████▉                                                                             | 14/32 [12:38<16:20, 54.44s/it]"
     ]
    },
    {
     "name": "stdout",
     "output_type": "stream",
     "text": [
      "{'batch_norm': False, 'dropout': 0.3, 'kernel_size': 5, 'n_layers': 3, 'pooling': False}\n"
     ]
    },
    {
     "name": "stderr",
     "output_type": "stream",
     "text": [
      " 47%|████████████████████████████████████████████████████████████████▏                                                                        | 15/32 [13:56<17:26, 61.53s/it]"
     ]
    },
    {
     "name": "stdout",
     "output_type": "stream",
     "text": [
      "{'batch_norm': False, 'dropout': 0.3, 'kernel_size': 5, 'n_layers': 3, 'pooling': True}\n"
     ]
    },
    {
     "name": "stderr",
     "output_type": "stream",
     "text": [
      " 50%|████████████████████████████████████████████████████████████████████▌                                                                    | 16/32 [14:50<15:50, 59.40s/it]"
     ]
    },
    {
     "name": "stdout",
     "output_type": "stream",
     "text": [
      "{'batch_norm': True, 'dropout': 0.0, 'kernel_size': 3, 'n_layers': 2, 'pooling': False}\n"
     ]
    },
    {
     "name": "stderr",
     "output_type": "stream",
     "text": [
      " 53%|████████████████████████████████████████████████████████████████████████▊                                                                | 17/32 [15:43<14:20, 57.34s/it]"
     ]
    },
    {
     "name": "stdout",
     "output_type": "stream",
     "text": [
      "{'batch_norm': True, 'dropout': 0.0, 'kernel_size': 3, 'n_layers': 2, 'pooling': True}\n"
     ]
    },
    {
     "name": "stderr",
     "output_type": "stream",
     "text": [
      " 56%|█████████████████████████████████████████████████████████████████████████████                                                            | 18/32 [16:36<13:03, 55.98s/it]"
     ]
    },
    {
     "name": "stdout",
     "output_type": "stream",
     "text": [
      "{'batch_norm': True, 'dropout': 0.0, 'kernel_size': 3, 'n_layers': 3, 'pooling': False}\n"
     ]
    },
    {
     "name": "stderr",
     "output_type": "stream",
     "text": [
      " 59%|█████████████████████████████████████████████████████████████████████████████████▎                                                       | 19/32 [17:44<12:56, 59.70s/it]"
     ]
    },
    {
     "name": "stdout",
     "output_type": "stream",
     "text": [
      "{'batch_norm': True, 'dropout': 0.0, 'kernel_size': 3, 'n_layers': 3, 'pooling': True}\n"
     ]
    },
    {
     "name": "stderr",
     "output_type": "stream",
     "text": [
      " 62%|█████████████████████████████████████████████████████████████████████████████████████▋                                                   | 20/32 [18:39<11:40, 58.36s/it]"
     ]
    },
    {
     "name": "stdout",
     "output_type": "stream",
     "text": [
      "{'batch_norm': True, 'dropout': 0.0, 'kernel_size': 5, 'n_layers': 2, 'pooling': False}\n"
     ]
    },
    {
     "name": "stderr",
     "output_type": "stream",
     "text": [
      " 66%|█████████████████████████████████████████████████████████████████████████████████████████▉                                               | 21/32 [19:35<10:34, 57.66s/it]"
     ]
    },
    {
     "name": "stdout",
     "output_type": "stream",
     "text": [
      "{'batch_norm': True, 'dropout': 0.0, 'kernel_size': 5, 'n_layers': 2, 'pooling': True}\n"
     ]
    },
    {
     "name": "stderr",
     "output_type": "stream",
     "text": [
      " 69%|██████████████████████████████████████████████████████████████████████████████████████████████▏                                          | 22/32 [20:29<09:23, 56.31s/it]"
     ]
    },
    {
     "name": "stdout",
     "output_type": "stream",
     "text": [
      "{'batch_norm': True, 'dropout': 0.0, 'kernel_size': 5, 'n_layers': 3, 'pooling': False}\n"
     ]
    },
    {
     "name": "stderr",
     "output_type": "stream",
     "text": [
      " 72%|██████████████████████████████████████████████████████████████████████████████████████████████████▍                                      | 23/32 [21:51<09:36, 64.00s/it]"
     ]
    },
    {
     "name": "stdout",
     "output_type": "stream",
     "text": [
      "{'batch_norm': True, 'dropout': 0.0, 'kernel_size': 5, 'n_layers': 3, 'pooling': True}\n"
     ]
    },
    {
     "name": "stderr",
     "output_type": "stream",
     "text": [
      " 75%|██████████████████████████████████████████████████████████████████████████████████████████████████████▊                                  | 24/32 [22:47<08:14, 61.83s/it]"
     ]
    },
    {
     "name": "stdout",
     "output_type": "stream",
     "text": [
      "{'batch_norm': True, 'dropout': 0.3, 'kernel_size': 3, 'n_layers': 2, 'pooling': False}\n"
     ]
    },
    {
     "name": "stderr",
     "output_type": "stream",
     "text": [
      " 78%|███████████████████████████████████████████████████████████████████████████████████████████████████████████                              | 25/32 [23:42<06:57, 59.59s/it]"
     ]
    },
    {
     "name": "stdout",
     "output_type": "stream",
     "text": [
      "{'batch_norm': True, 'dropout': 0.3, 'kernel_size': 3, 'n_layers': 2, 'pooling': True}\n"
     ]
    },
    {
     "name": "stderr",
     "output_type": "stream",
     "text": [
      " 81%|███████████████████████████████████████████████████████████████████████████████████████████████████████████████▎                         | 26/32 [24:35<05:46, 57.83s/it]"
     ]
    },
    {
     "name": "stdout",
     "output_type": "stream",
     "text": [
      "{'batch_norm': True, 'dropout': 0.3, 'kernel_size': 3, 'n_layers': 3, 'pooling': False}\n"
     ]
    },
    {
     "name": "stderr",
     "output_type": "stream",
     "text": [
      " 84%|███████████████████████████████████████████████████████████████████████████████████████████████████████████████████▌                     | 27/32 [25:45<05:06, 61.35s/it]"
     ]
    },
    {
     "name": "stdout",
     "output_type": "stream",
     "text": [
      "{'batch_norm': True, 'dropout': 0.3, 'kernel_size': 3, 'n_layers': 3, 'pooling': True}\n"
     ]
    },
    {
     "name": "stderr",
     "output_type": "stream",
     "text": [
      " 88%|███████████████████████████████████████████████████████████████████████████████████████████████████████████████████████▉                 | 28/32 [26:41<03:58, 59.74s/it]"
     ]
    },
    {
     "name": "stdout",
     "output_type": "stream",
     "text": [
      "{'batch_norm': True, 'dropout': 0.3, 'kernel_size': 5, 'n_layers': 2, 'pooling': False}\n"
     ]
    },
    {
     "name": "stderr",
     "output_type": "stream",
     "text": [
      " 91%|████████████████████████████████████████████████████████████████████████████████████████████████████████████████████████████▏            | 29/32 [27:38<02:56, 58.97s/it]"
     ]
    },
    {
     "name": "stdout",
     "output_type": "stream",
     "text": [
      "{'batch_norm': True, 'dropout': 0.3, 'kernel_size': 5, 'n_layers': 2, 'pooling': True}\n"
     ]
    },
    {
     "name": "stderr",
     "output_type": "stream",
     "text": [
      " 94%|████████████████████████████████████████████████████████████████████████████████████████████████████████████████████████████████▍        | 30/32 [28:31<01:54, 57.10s/it]"
     ]
    },
    {
     "name": "stdout",
     "output_type": "stream",
     "text": [
      "{'batch_norm': True, 'dropout': 0.3, 'kernel_size': 5, 'n_layers': 3, 'pooling': False}\n"
     ]
    },
    {
     "name": "stderr",
     "output_type": "stream",
     "text": [
      " 97%|████████████████████████████████████████████████████████████████████████████████████████████████████████████████████████████████████▋    | 31/32 [29:54<01:04, 64.93s/it]"
     ]
    },
    {
     "name": "stdout",
     "output_type": "stream",
     "text": [
      "{'batch_norm': True, 'dropout': 0.3, 'kernel_size': 5, 'n_layers': 3, 'pooling': True}\n"
     ]
    },
    {
     "name": "stderr",
     "output_type": "stream",
     "text": [
      "100%|█████████████████████████████████████████████████████████████████████████████████████████████████████████████████████████████████████████| 32/32 [30:51<00:00, 57.85s/it]\n"
     ]
    }
   ],
   "source": [
    "grid = ParameterGrid({\n",
    "    'n_layers': [2, 3],\n",
    "    'kernel_size': [3, 5],\n",
    "    'pooling': [False, True],\n",
    "    'batch_norm': [False, True],\n",
    "    'dropout': [0.0, 0.3],\n",
    "})\n",
    "\n",
    "for params in tqdm(grid):\n",
    "    print(str(params))\n",
    "\n",
    "    # Create model\n",
    "    model = CNN(**params)\n",
    "    mod = model.to(device)\n",
    "    \n",
    "    writer = SummaryWriter(f'experiments/{str(params)}')\n",
    "    callback = tensorboard_callback(writer, test_data, loss_function, batch_size=batch_size, delimeter=300)\n",
    "\n",
    "    trainer(count_of_epoch=3,\n",
    "            batch_size=batch_size,\n",
    "            dataset=train_data,\n",
    "            model=model,\n",
    "            loss_function=loss_function,\n",
    "            optimizer=optimizer,\n",
    "            lr=0.001,\n",
    "            callback=callback)\n"
   ]
  },
  {
   "cell_type": "markdown",
   "metadata": {},
   "source": [
    "### Conclusions"
   ]
  },
  {
   "cell_type": "markdown",
   "metadata": {},
   "source": [
    "Реализована модель CNN, проведен grid-search по гиперпараметрам, выполнена оценка loss и accuracy.\n",
    "\n",
    "Результаты:\n",
    "- Модели с 3 слоями лучше, чем с двумя, при фиксации остальных параметров.\n",
    "- Pooling ухудшает качество модели\n",
    "- Batch norm ухудшает качество модели\n",
    "- Dropout ухудшает качество модели\n",
    "- Небольшая разница в качестве между train/test\n",
    "\n",
    "Все результаты говорят о том, что модели не хватает гибкости. Можно попробовать увеличить количество слоев, размер kernel-a."
   ]
  },
  {
   "cell_type": "markdown",
   "metadata": {},
   "source": [
    "P.S. Обучение занимает значительный период времени (порядка 40-60 секунд для каждой конфигурации гиперпараметров на consumer-grade PC). Значительный overhead дает расчет loss/accuracy на test_data для tensorboard-a, поэтому параметр delimeter (раз во сколько batch-ей производится расчет) был поднят с 10 до 300."
   ]
  },
  {
   "cell_type": "code",
   "execution_count": null,
   "metadata": {},
   "outputs": [],
   "source": []
  }
 ],
 "metadata": {
  "kernelspec": {
   "display_name": "Python 3 (ipykernel)",
   "language": "python",
   "name": "python3"
  },
  "language_info": {
   "codemirror_mode": {
    "name": "ipython",
    "version": 3
   },
   "file_extension": ".py",
   "mimetype": "text/x-python",
   "name": "python",
   "nbconvert_exporter": "python",
   "pygments_lexer": "ipython3",
   "version": "3.13.1"
  }
 },
 "nbformat": 4,
 "nbformat_minor": 4
}
